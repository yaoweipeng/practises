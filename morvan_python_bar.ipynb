{
 "cells": [
  {
   "cell_type": "code",
   "execution_count": 12,
   "metadata": {},
   "outputs": [
    {
     "data": {
      "image/png": "[encoded data removed]",
      "text/plain": [
       "<matplotlib.figure.Figure at 0x115188358>"
      ]
     },
     "metadata": {},
     "output_type": "display_data"
    }
   ],
   "source": [
    "# zip; ha; va;\n",
    "\n",
    "import numpy as np\n",
    "import matplotlib.pyplot as plt\n",
    "\n",
    "n = 12\n",
    "\n",
    "X = np.arange(n)\n",
    "Y1 = (1-X/float(n))*np.random.uniform(0.5,1.0,n)\n",
    "Y2 = (1-X/float(n))*np.random.uniform(0.5,1.0,n)\n",
    "\n",
    "plt.bar(X, +Y1, facecolor='#9999ff', edgecolor='white')\n",
    "plt.bar(X, -Y2, facecolor='#ff9999', edgecolor='white')\n",
    "\n",
    "for x,y in zip(X, Y1):\n",
    "    # ha: horizontal alignment\n",
    "    plt.text(x, y+0.05, '%.2f' % y, ha='center', va='bottom')\n",
    "    \n",
    "for x,y in zip(X, Y2):\n",
    "    # ha: horizontal alignment\n",
    "    plt.text(x, -y-0.05, '-%.2f' % y, ha='center', va='top')\n",
    "\n",
    "plt.xlim(-0.5,n)\n",
    "plt.xticks(())\n",
    "plt.ylim(-1.25,1.25)\n",
    "plt.yticks(())\n",
    "\n",
    "plt.show()"
   ]
  },
  {
   "cell_type": "code",
   "execution_count": null,
   "metadata": {
    "collapsed": true
   },
   "outputs": [],
   "source": []
  }
 ],
 "metadata": {
  "kernelspec": {
   "display_name": "Python 3",
   "language": "python",
   "name": "python3"
  },
  "language_info": {
   "codemirror_mode": {
    "name": "ipython",
    "version": 3
   },
   "file_extension": ".py",
   "mimetype": "text/x-python",
   "name": "python",
   "nbconvert_exporter": "python",
   "pygments_lexer": "ipython3",
   "version": "3.6.1"
  }
 },
 "nbformat": 4,
 "nbformat_minor": 2
}
