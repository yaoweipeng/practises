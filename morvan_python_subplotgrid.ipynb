{
 "cells": [
  {
   "cell_type": "code",
   "execution_count": 56,
   "metadata": {},
   "outputs": [
    {
     "data": {
      "image/png": "[encoded data removed]",
      "text/plain": [
       "<matplotlib.figure.Figure at 0x112fb1828>"
      ]
     },
     "metadata": {},
     "output_type": "display_data"
    }
   ],
   "source": [
    "import matplotlib.pyplot as plt\n",
    "import matplotlib.gridspec as gridspec\n",
    "\n",
    "\n",
    "# # method 1: subplot2grid\n",
    "# ################################\n",
    "# plt.figure()\n",
    "# ax1 = plt.subplot2grid((3,3),(0,0),colspan=3, rowspan=1)\n",
    "# ax1.plot([1,2],[1,2])\n",
    "# ax1.set_title('ax1_title')  # 这里注意子图与主图在设置title/label时的区别\n",
    "\n",
    "# ax2 = plt.subplot2grid((3,3),(1,0),colspan=2, rowspan=1)\n",
    "# ax3 = plt.subplot2grid((3,3),(1,2),colspan=1, rowspan=2)\n",
    "# ax4 = plt.subplot2grid((3,3),(2,0),colspan=1, rowspan=1)\n",
    "# ax5 = plt.subplot2grid((3,3),(2,1),colspan=1, rowspan=1)\n",
    "\n",
    "# # method 2: gridspec\n",
    "# ###################################\n",
    "# plt.figure()\n",
    "# gs = gridspec.GridSpec(3,3)\n",
    "# ax1 = plt.subplot(gs[0,:])\n",
    "# ax2 = plt.subplot(gs[1,:2])\n",
    "# ax3 = plt.subplot(gs[1:,2])\n",
    "# ax4 = plt.subplot(gs[2,0])\n",
    "# ax5 = plt.subplot(gs[2,1])\n",
    "\n",
    "# method 3: easy to define structure\n",
    "######################################\n",
    "f, ((ax11,ax12),(ax21,ax22)) = plt.subplots(2,2,sharex=True,sharey=True)\n",
    "ax11.scatter([1,2],[1,2])\n",
    "\n",
    "\n",
    "\n",
    "\n",
    "plt.show()"
   ]
  },
  {
   "cell_type": "code",
   "execution_count": null,
   "metadata": {
    "collapsed": true
   },
   "outputs": [],
   "source": []
  }
 ],
 "metadata": {
  "kernelspec": {
   "display_name": "Python 3",
   "language": "python",
   "name": "python3"
  },
  "language_info": {
   "codemirror_mode": {
    "name": "ipython",
    "version": 3
   },
   "file_extension": ".py",
   "mimetype": "text/x-python",
   "name": "python",
   "nbconvert_exporter": "python",
   "pygments_lexer": "ipython3",
   "version": "3.6.1"
  }
 },
 "nbformat": 4,
 "nbformat_minor": 2
}
